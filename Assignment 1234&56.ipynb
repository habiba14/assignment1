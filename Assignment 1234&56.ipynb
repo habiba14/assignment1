{
 "cells": [
  {
   "cell_type": "code",
   "execution_count": 1,
   "metadata": {},
   "outputs": [
    {
     "name": "stdout",
     "output_type": "stream",
     "text": [
      "Twinkle, twinkle, little star,\n",
      "    How I wonder what you are!\n",
      "                Up above the world so high,\n",
      "                Like a diamond in the sky.\n",
      "Twinkle, twinkle, little star,\n",
      "    How I wonder what you are!\n"
     ]
    }
   ],
   "source": [
    "#Question No.1\n",
    "line1 = \"Twinkle, twinkle, little star,\"\n",
    "line2 = \"    How I wonder what you are!\"\n",
    "line3 = \"                Up above the world so high,\"\n",
    "line4 = \"                Like a diamond in the sky.\"\n",
    "print (line1)\n",
    "print (line2)\n",
    "print (line3)\n",
    "print (line4)\n",
    "print (line1)\n",
    "print (line2)"
   ]
  },
  {
   "cell_type": "code",
   "execution_count": 2,
   "metadata": {},
   "outputs": [
    {
     "name": "stdout",
     "output_type": "stream",
     "text": [
      "3.7.3 (default, Apr 24 2019, 13:20:13) [MSC v.1915 32 bit (Intel)]\n"
     ]
    }
   ],
   "source": [
    "#Question No.2\n",
    "import sys\n",
    "print (sys.version)"
   ]
  },
  {
   "cell_type": "code",
   "execution_count": 3,
   "metadata": {},
   "outputs": [
    {
     "name": "stdout",
     "output_type": "stream",
     "text": [
      "Current Date: 2019-11-04\n",
      "Current Time: 21:13:12\n"
     ]
    }
   ],
   "source": [
    "#Question No.3\n",
    "import datetime\n",
    "now = datetime.datetime.now()\n",
    "print (now.strftime(\"Current Date: %Y-%m-%d\"))\n",
    "print (now.strftime(\"Current Time: %H:%M:%S\"))"
   ]
  },
  {
   "cell_type": "code",
   "execution_count": 4,
   "metadata": {},
   "outputs": [
    {
     "name": "stdout",
     "output_type": "stream",
     "text": [
      "Enter radius of the circle: 4\n",
      "The area of circle is 50.256\n"
     ]
    }
   ],
   "source": [
    "#Question No.4\n",
    "pi = 3.141\n",
    "radius = float(input(\"Enter radius of the circle: \"))\n",
    "area = pi * radius**2\n",
    "print (\"The area of circle is\", area)"
   ]
  },
  {
   "cell_type": "code",
   "execution_count": 1,
   "metadata": {},
   "outputs": [
    {
     "name": "stdout",
     "output_type": "stream",
     "text": [
      "Your First Name is: habiba\n",
      "Your Last Name is: shoaib\n",
      "Your name in reverse order is 'shoaib habiba'\n"
     ]
    }
   ],
   "source": [
    "#Question No.5\n",
    "first_name = input(\"Your First Name is: \")\n",
    "last_name = input(\"Your Last Name is: \")\n",
    "print (\"Your name in reverse order is \" + \"'\" + last_name + \" \" + first_name + \"'\")"
   ]
  },
  {
   "cell_type": "code",
   "execution_count": 6,
   "metadata": {},
   "outputs": [
    {
     "name": "stdout",
     "output_type": "stream",
     "text": [
      "Your first number: 4\n",
      "Your second number: 70\n"
     ]
    },
    {
     "data": {
      "text/plain": [
       "74"
      ]
     },
     "execution_count": 6,
     "metadata": {},
     "output_type": "execute_result"
    }
   ],
   "source": [
    "#Question No.6\n",
    "num_1 = int(input(\"Your first number: \"))\n",
    "num_2 = int(input(\"Your second number: \"))\n",
    "result = num_1 + num_2\n",
    "result\n"
   ]
  },
  {
   "cell_type": "code",
   "execution_count": 1,
   "metadata": {},
   "outputs": [
    {
     "name": "stdout",
     "output_type": "stream",
     "text": [
      "Enter marks of the first subject: 67\n",
      "Enter marks of the second subject: 78\n",
      "Enter marks of the third subject: 90\n",
      "Enter marks of the fourth subject: 56\n",
      "Enter marks of the fifth subject: 89\n",
      "Grade: A\n"
     ]
    }
   ],
   "source": [
    "# Question 1\n",
    "\n",
    "sub1=int(input(\"Enter marks of the first subject: \"))\n",
    "sub2=int(input(\"Enter marks of the second subject: \"))\n",
    "sub3=int(input(\"Enter marks of the third subject: \"))\n",
    "sub4=int(input(\"Enter marks of the fourth subject: \"))\n",
    "sub5=int(input(\"Enter marks of the fifth subject: \"))\n",
    "total = (sub1+sub2+sub3+sub4+sub5)/5;\n",
    "if(total>=80 and total <=100):\n",
    "    print(\"Grade: A+\")\n",
    "elif(total>=70 and total<80):\n",
    "    print(\"Grade: A\")\n",
    "elif(total>=60 and total<70):\n",
    "    print(\"Grade: B\")\n",
    "elif(total>=50 and total<60):\n",
    "    print(\"Grade: C\")\n",
    "elif(total>=40 and total<50):\n",
    "    print(\"Grade: D\")\n",
    "elif(total>=33):\n",
    "    print(\"Grade: E\")\n",
    "else:\n",
    "    print(\"Grade: F\")"
   ]
  },
  {
   "cell_type": "code",
   "execution_count": 2,
   "metadata": {},
   "outputs": [
    {
     "name": "stdout",
     "output_type": "stream",
     "text": [
      "Enter a number: 6\n",
      "6 is Even\n"
     ]
    }
   ],
   "source": [
    "# Question 2\n",
    "\n",
    "num = int(input(\"Enter a number: \"))\n",
    "if (num % 2) == 0:\n",
    "   print(\"{0} is Even\".format(num))\n",
    "else:\n",
    "   print(\"{0} is Odd\".format(num))"
   ]
  },
  {
   "cell_type": "code",
   "execution_count": 3,
   "metadata": {},
   "outputs": [
    {
     "name": "stdout",
     "output_type": "stream",
     "text": [
      "9\n"
     ]
    }
   ],
   "source": [
    "# Question 3\n",
    "\n",
    "L=[1,2,3,4,5,4,6,8,0]\n",
    "length_of_list = len(L)\n",
    "print(length_of_list)"
   ]
  },
  {
   "cell_type": "code",
   "execution_count": 4,
   "metadata": {},
   "outputs": [
    {
     "name": "stdout",
     "output_type": "stream",
     "text": [
      "Sum of all elements in given list:  74\n"
     ]
    }
   ],
   "source": [
    "# Question 4\n",
    "total = 0\n",
    "  \n",
    "list1 = [11, 5, 17, 18, 23]  \n",
    "  \n",
    "for element in range(0, len(list1)): \n",
    "    total = total + list1[element] \n",
    "  \n",
    "print(\"Sum of all elements in given list: \", total)"
   ]
  },
  {
   "cell_type": "code",
   "execution_count": 5,
   "metadata": {},
   "outputs": [
    {
     "name": "stdout",
     "output_type": "stream",
     "text": [
      "Largest element is: 96\n"
     ]
    }
   ],
   "source": [
    "# Question 5\n",
    "list1 = [10, 89, 4, 45, 96] \n",
    "  \n",
    " \n",
    "list1.sort() \n",
    "  \n",
    " \n",
    "print(\"Largest element is:\", list1[-1])"
   ]
  },
  {
   "cell_type": "code",
   "execution_count": 6,
   "metadata": {},
   "outputs": [
    {
     "name": "stdout",
     "output_type": "stream",
     "text": [
      "1\n",
      "1\n",
      "2\n",
      "3\n",
      "[1, 1, 2, 3]\n"
     ]
    }
   ],
   "source": [
    "# Question 6\n",
    "\n",
    "a = [1, 1, 2, 3, 5, 8, 13, 21, 34, 55, 89]\n",
    "\n",
    "for i in a:\n",
    "\n",
    "    if i < 5:\n",
    "\n",
    "        print(i)\n",
    "\n",
    "\n",
    "\n",
    "x=[i for i in a if i <5]\n",
    "print(x)"
   ]
  },
  {
   "cell_type": "code",
   "execution_count": 9,
   "metadata": {},
   "outputs": [
    {
     "name": "stdout",
     "output_type": "stream",
     "text": [
      "Enter your first number: 7\n",
      "Enter your second number: 8\n",
      "7 + 8 = \n",
      "15\n",
      "7 - 8 = \n",
      "-1\n",
      "7 * 8 = \n",
      "56\n",
      "7 / 8 = \n",
      "0.875\n",
      " Please Enter any Positive Integer : 6\n",
      " Please Enter Exponent Value : 7\n",
      "The Result of 6 Power 7 = 279936\n"
     ]
    }
   ],
   "source": [
    "#Assighnment No.3\n",
    "#Question No.1\n",
    "number_1 = int(input('Enter your first number: '))\n",
    "number_2 = int(input('Enter your second number: '))\n",
    "\n",
    "# Addition\n",
    "print('{} + {} = '.format(number_1, number_2))\n",
    "print(number_1 + number_2)\n",
    "\n",
    "# Subtraction\n",
    "print('{} - {} = '.format(number_1, number_2))\n",
    "print(number_1 - number_2)\n",
    "\n",
    "# Multiplication\n",
    "print('{} * {} = '.format(number_1, number_2))\n",
    "print(number_1 * number_2)\n",
    "\n",
    "# Division\n",
    "print('{} / {} = '.format(number_1, number_2))\n",
    "print(number_1 / number_2)\n",
    "number = int(input(\" Please Enter any Positive Integer : \"))\n",
    "exponent = int(input(\" Please Enter Exponent Value : \"))\n",
    "power = 1\n",
    "\n",
    "for i in range(1, exponent + 1):\n",
    "    power = power * number\n",
    "    \n",
    "print(\"The Result of {0} Power {1} = {2}\".format(number, exponent, power))\n",
    "\n"
   ]
  },
  {
   "cell_type": "code",
   "execution_count": 11,
   "metadata": {},
   "outputs": [
    {
     "name": "stdout",
     "output_type": "stream",
     "text": [
      "Checking if 4 exists in list ( using loop ) : \n",
      "Element Exists\n",
      "Checking if 4 exists in list ( using in ) : \n",
      "Element Exists\n"
     ]
    }
   ],
   "source": [
    "#Question No.2\n",
    "test_list = [ 1, 6, 3, 5, 3, 4 ] \n",
    "  \n",
    "print(\"Checking if 4 exists in list ( using loop ) : \") \n",
    "for i in test_list: \n",
    "    if(i == 4) : \n",
    "        print (\"Element Exists\") \n",
    "  \n",
    "print(\"Checking if 4 exists in list ( using in ) : \") \n",
    "if (4 in test_list): \n",
    "    print (\"Element Exists\")"
   ]
  },
  {
   "cell_type": "code",
   "execution_count": 12,
   "metadata": {},
   "outputs": [
    {
     "name": "stdout",
     "output_type": "stream",
     "text": [
      "{0: 10, 1: 20}\n",
      "{0: 10, 1: 20, 2: 30}\n"
     ]
    }
   ],
   "source": [
    "#Question No.3\n",
    "d = {0:10, 1:20}\n",
    "print(d)\n",
    "d.update({2:30})\n",
    "print(d)"
   ]
  },
  {
   "cell_type": "code",
   "execution_count": 13,
   "metadata": {},
   "outputs": [
    {
     "name": "stdout",
     "output_type": "stream",
     "text": [
      "293\n"
     ]
    }
   ],
   "source": [
    "#Question No.4\n",
    "my_dict = {'data1':100,'data2':-54,'data3':247}\n",
    "print(sum(my_dict.values()))"
   ]
  },
  {
   "cell_type": "code",
   "execution_count": 14,
   "metadata": {},
   "outputs": [
    {
     "name": "stdout",
     "output_type": "stream",
     "text": [
      "[10, 20, 30, 40, 50]\n"
     ]
    }
   ],
   "source": [
    "#Question No.5\n",
    "def unique_list(list):\n",
    "    uniq_list = []\n",
    "    uniq_set = set()\n",
    "    for item in list:\n",
    "       if item not in uniq_set:\n",
    "            uniq_list.append(item)\n",
    "            uniq_set.add(item)\n",
    "    return uniq_list\n",
    " \n",
    "list = [10,20,30,10,10,30,40,50]\n",
    "print(unique_list(list))"
   ]
  },
  {
   "cell_type": "code",
   "execution_count": 18,
   "metadata": {},
   "outputs": [],
   "source": [
    "#Question No.6\n",
    "d = {1: 10, 2: 20, 3: 30, 4: 40, 5: 50, 6: 60}\n",
    "def is_key_present(x):\n",
    "  if x in d:\n",
    "      print('Key is present in the dictionary')\n",
    "  else:\n",
    "      print('Key is not present in the dictionary')"
   ]
  },
  {
   "cell_type": "code",
   "execution_count": 5,
   "metadata": {},
   "outputs": [
    {
     "name": "stdout",
     "output_type": "stream",
     "text": [
      "habiba\n",
      "shoaib\n",
      "21\n",
      "karachi\n"
     ]
    }
   ],
   "source": [
    "# ASSIGNMENT # 04\n",
    "\n",
    "# Question 1\n",
    "\n",
    "person = {\n",
    "    'first_name': 'habiba',\n",
    "    'last_name': 'shoaib',\n",
    "    'age': 21,\n",
    "    'city': 'karachi',\n",
    "    }\n",
    "\n",
    "print(person['first_name'])\n",
    "print(person['last_name'])\n",
    "print(person['age'])\n",
    "print(person['city'])"
   ]
  },
  {
   "cell_type": "code",
   "execution_count": 21,
   "metadata": {},
   "outputs": [
    {
     "name": "stdout",
     "output_type": "stream",
     "text": [
      "\n",
      "Karachi is in Pakistan.\n",
      "  It has a population of about 1889176.\n",
      "Play Vital Role In Pakistan Economic \n",
      "\n",
      "Sydney is in Australia.\n",
      "  It has a population of about 4741874.\n",
      "Capital City\n",
      "\n",
      "Tokyo is in Japan.\n",
      "  It has a population of about 37435191.\n",
      "Capital City\n"
     ]
    }
   ],
   "source": [
    "# Question 2\n",
    "\n",
    "cities = {\n",
    "    'karachi': {\n",
    "        'country': 'pakistan',\n",
    "        'population': 1889176,\n",
    "        'fact': 'play vital role in Pakistan economic ',\n",
    "        },\n",
    "    'sydney': {\n",
    "        'country': 'australia',\n",
    "        'population': 4741874,\n",
    "        'fact': 'capital city',\n",
    "        },\n",
    "    'tokyo': {\n",
    "        'country': 'japan',\n",
    "        'population': 37435191,\n",
    "        'fact': 'capital city',\n",
    "        }\n",
    "    }\n",
    "\n",
    "for city, city_info in cities.items():\n",
    "    country = city_info['country'].title()\n",
    "    population = city_info['population']\n",
    "    fact = city_info['fact'].title()\n",
    "\n",
    "    print(\"\\n\" + city.title() + \" is in \" + country + \".\")\n",
    "    print(\"  It has a population of about \" + str(population) + \".\")\n",
    "    print(fact)"
   ]
  },
  {
   "cell_type": "code",
   "execution_count": null,
   "metadata": {},
   "outputs": [
    {
     "name": "stdout",
     "output_type": "stream",
     "text": [
      "Enter your age to know about ticket\n",
      " but if you want to exit enter 'quit'\n",
      "  21\n",
      "  Your ticket is $15.\n",
      "Enter your age to know about ticket\n",
      " but if you want to exit enter 'quit'\n",
      "  9\n",
      "  Your ticket is $10.\n",
      "Enter your age to know about ticket\n",
      " but if you want to exit enter 'quit'\n",
      "  2\n",
      "  You get in free!\n"
     ]
    }
   ],
   "source": [
    "# Question 03\n",
    "entry = \"Enter your age to know about ticket\\n but if you want to exit enter 'quit'\\n  \"\n",
    "#entry += \"\\nEnter 'quit' when you want to exit\\n. \"\n",
    "\n",
    "while True:\n",
    "    age = input(entry)\n",
    "    if age == 'quit':\n",
    "        break\n",
    "    age = int(age)\n",
    "\n",
    "    if age < 3:\n",
    "        print(\"  You get in free!\")\n",
    "    elif age < 13:\n",
    "        print(\"  Your ticket is $10.\")\n",
    "    else:\n",
    "        \n",
    "        print(\"  Your ticket is $15.\")"
   ]
  },
  {
   "cell_type": "code",
   "execution_count": null,
   "metadata": {},
   "outputs": [],
   "source": [
    "# Question 04\n",
    "\n",
    "def favorite_book(title):\n",
    "\n",
    "    print(title + \" is one of my favorite books.\")\n",
    "\n",
    "favorite_book('harry potter')"
   ]
  },
  {
   "cell_type": "code",
   "execution_count": null,
   "metadata": {},
   "outputs": [],
   "source": [
    "# Question 5\n",
    "\n",
    "import random\n",
    "target_num, guess_num = random.randint(1, 20), 0\n",
    "while target_num != guess_num:\n",
    "    guess_num = int(input('Guess a number between 1 and 20 until you get it right : '))\n",
    "print('Well guessed!')"
   ]
  },
  {
   "cell_type": "code",
   "execution_count": 10,
   "metadata": {},
   "outputs": [
    {
     "name": "stdout",
     "output_type": "stream",
     "text": [
      "24\n"
     ]
    }
   ],
   "source": [
    "#ASSIGNMENT NO 5\n",
    "#QUESTION NO 1\n",
    "def factorial(num):\n",
    "    product = 1\n",
    "    while num > 0:\n",
    "        product *= num\n",
    "        num -= 1\n",
    "    print(product) \n",
    "        \n",
    "# Calling\n",
    "factorial(4)"
   ]
  },
  {
   "cell_type": "code",
   "execution_count": 9,
   "metadata": {},
   "outputs": [
    {
     "name": "stdout",
     "output_type": "stream",
     "text": [
      "There are 3 Lower case letters:\n",
      "There are 6 Upper case letters:\n"
     ]
    }
   ],
   "source": [
    "#QUESTION NO 2\n",
    "def case_counter(string):\n",
    "    upper_count = 0\n",
    "    lower_count = 0\n",
    "    for letter in string:\n",
    "        if letter == letter.lower():\n",
    "            lower_count += 1\n",
    "        elif letter == letter.upper():\n",
    "            upper_count += 1\n",
    "    print(f\"There are {lower_count} Lower case letters:\")\n",
    "    print(f\"There are {upper_count} Upper case letters:\")\n",
    "                \n",
    "#Calling\n",
    "case_counter(\"FARIYAhaq\")"
   ]
  },
  {
   "cell_type": "code",
   "execution_count": 8,
   "metadata": {},
   "outputs": [
    {
     "name": "stdout",
     "output_type": "stream",
     "text": [
      "2\n",
      "4\n",
      "6\n",
      "8\n",
      "10\n"
     ]
    }
   ],
   "source": [
    "#QUESTION NO 3\n",
    "def even_printer(numbers):\n",
    "    for number in numbers:\n",
    "        if number % 2 == 0:\n",
    "            print(number)\n",
    "            \n",
    "# Calling\n",
    "even_printer([1,2,3,4,5,6,7,8,9,10])"
   ]
  },
  {
   "cell_type": "code",
   "execution_count": 7,
   "metadata": {},
   "outputs": [
    {
     "name": "stdout",
     "output_type": "stream",
     "text": [
      "This is a palindrome string.\n",
      "This is not a palindrome string.\n"
     ]
    }
   ],
   "source": [
    "#QUESTION NO 4\n",
    "def check_palindrome(string):\n",
    "    if string == string[::-1]:\n",
    "        print(\"This is a palindrome string.\")\n",
    "    else:\n",
    "        print(\"This is not a palindrome string.\")\n",
    "        \n",
    "# Calling\n",
    "check_palindrome(\"madam\")\n",
    "check_palindrome(\"fariya\")"
   ]
  },
  {
   "cell_type": "code",
   "execution_count": 5,
   "metadata": {},
   "outputs": [
    {
     "name": "stdout",
     "output_type": "stream",
     "text": [
      "9 is not a prime number\n",
      "9 is not a prime number\n",
      "13 is a prime number !\n"
     ]
    }
   ],
   "source": [
    "#QUESTION NO 5\n",
    "def check_prime(num):\n",
    "    flag = True\n",
    "    if num > 1:\n",
    "        for i in range(2,num):\n",
    "            if (num % i) == 0:\n",
    "                print(num,\"is not a prime number\")\n",
    "                flag = False\n",
    "                break\n",
    "        if flag:\n",
    "            print(num, \"is a prime number !\")\n",
    "            \n",
    "        else:\n",
    "            print(num, \"is not a prime number\")\n",
    "            \n",
    "# Calling\n",
    "check_prime(9)\n",
    "check_prime(13)"
   ]
  },
  {
   "cell_type": "code",
   "execution_count": 6,
   "metadata": {},
   "outputs": [
    {
     "name": "stdout",
     "output_type": "stream",
     "text": [
      "Items:\n",
      "\n",
      "\tPizza\n",
      "\tTV\n",
      "\tRemote\n",
      "\tScrew Driver\n"
     ]
    }
   ],
   "source": [
    "#QUESTION NO 6\n",
    "def shopping(*items):\n",
    "    print(\"Items:\\n\")\n",
    "    for item in items:\n",
    "        print(f\"\\t{item}\")\n",
    "\n",
    "# Calling\n",
    "shopping(\"Pizza\",\"TV\",\"Remote\",\"Screw Driver\")"
   ]
  },
  {
   "cell_type": "markdown",
   "metadata": {},
   "source": [
    "#Assignment 6\n",
    "Question 1\n",
    "\n",
    "# Objected-Oriented Programming\n",
    "\n",
    "*Object oriented programming* (OOP) refers to a type of computer programming (software design) in which programmers define the data type of a data structure, and also the types of operations (functions) that can be applied to the data structure"
   ]
  },
  {
   "cell_type": "markdown",
   "metadata": {},
   "source": [
    "Question 2\n",
    "\n",
    "## Benits of OOPs\n",
    "\n",
    "- Incresed programmer discipline pays.\n",
    "- Encapsulation & decomposition pays.\n",
    "- Code reuse is possible.\n",
    "- Principles of data hiding helps for seccurity."
   ]
  },
  {
   "cell_type": "markdown",
   "metadata": {},
   "source": [
    "Question 3\n",
    "\n",
    "### Difference b/w method and function\n",
    "\n",
    "A *function* is a piece of code that is called by name. It can be passed data to operate on (i.e. the parameters) and can optionally return data (the return value). All data that is passed to a function is explicitly passed.\n",
    "\n",
    "A *method* is a piece of code that is called by a name that is associated with an object. In most respects it is identical to a function except for two key differences:"
   ]
  },
  {
   "cell_type": "markdown",
   "metadata": {},
   "source": [
    "Question 4\n",
    "\n",
    "1. ### CLASS\n",
    "A class is an entity that determines how an object will behave and what the object will contain. In other words, it is a blueprint or a set of instruction to build a specific type of object.\n",
    "\n",
    "\n",
    "2. ### OBJECT\n",
    "Object determines the behavior of the class. When you send a message to an object, you are asking the object to invoke or execute one of its methods.\n",
    "\n",
    "\n",
    "3. ### ATTRIBUTES\n",
    "Classes and objects have attributes. Attributes are data stored inside a class or instance and represent the state or quality of the class or instance. In short, attributes store information about the instance.\n",
    "\n",
    "4. ### BEHAVIOUR\n",
    "Methods determine what type of functionality a class has, how it modifies its data, and its overall behavior."
   ]
  },
  {
   "cell_type": "markdown",
   "metadata": {},
   "source": [
    "Question no 5\n",
    "#class\n",
    "\n",
    "class Car():\n",
    "    def _init_(car, name, color, reg_year, made_in_year, company):\n",
    "        car.name = name\n",
    "        car.color = color\n",
    "        car.reg_year = reg_year\n",
    "        car.made_in_year = made_in_year\n",
    "        car.company = company\n",
    "        \n",
    "\n",
    "# method 1\n",
    "Car1 = Car('Alto', 'White', '2017', '2013', 'Suzuki')\n",
    "print(\"Car 1\")\n",
    "print(Car1.name)\n",
    "print(Car1.color)\n",
    "print(Car1.reg_year)\n",
    "print(Car1.made_in_year)\n",
    "print(Car1.company)\n",
    "print('\\n')\n",
    "\n",
    "#method 2\n",
    "Car2 = Car('Corolla Indus', 'Black', '2000', '2004', 'Toyota')\n",
    "print(\"Car 2\")\n",
    "print(Car2.name)\n",
    "print(Car2.color)\n",
    "print(Car2.reg_year)\n",
    "print(Car2.made_in_year)\n",
    "print(Car2.company)\n",
    "print('\\n')\n",
    "\n",
    "#method 3\n",
    "Car1 = Car('Mehran', 'White', '2007', '2009', 'Suzuki')\n",
    "print(\"Car 3\")\n",
    "print(Car1.name)\n",
    "print(Car1.color)\n",
    "print(Car1.reg_year)\n",
    "print(Car1.made_in_year)\n",
    "print(Car1.company)"
   ]
  },
  {
   "cell_type": "code",
   "execution_count": null,
   "metadata": {},
   "outputs": [],
   "source": []
  }
 ],
 "metadata": {
  "kernelspec": {
   "display_name": "Python 3",
   "language": "python",
   "name": "python3"
  },
  "language_info": {
   "codemirror_mode": {
    "name": "ipython",
    "version": 3
   },
   "file_extension": ".py",
   "mimetype": "text/x-python",
   "name": "python",
   "nbconvert_exporter": "python",
   "pygments_lexer": "ipython3",
   "version": "3.7.3"
  }
 },
 "nbformat": 4,
 "nbformat_minor": 2
}
